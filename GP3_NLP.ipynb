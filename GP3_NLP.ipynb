{
  "cells": [
    {
      "cell_type": "markdown",
      "metadata": {
        "id": "view-in-github",
        "colab_type": "text"
      },
      "source": [
        "<a href=\"https://colab.research.google.com/github/JeloH/sntiexample/blob/master/GP3_NLP.ipynb\" target=\"_parent\"><img src=\"https://colab.research.google.com/assets/colab-badge.svg\" alt=\"Open In Colab\"/></a>"
      ]
    },
    {
      "cell_type": "code",
      "source": [
        "import os\n",
        "import openai"
      ],
      "metadata": {
        "id": "1Kaxh0nu-oOf"
      },
      "execution_count": 19,
      "outputs": []
    },
    {
      "cell_type": "code",
      "source": [
        "openai.api_key = \"yourAPIKey\""
      ],
      "metadata": {
        "id": "x5_5aNjNFeK5"
      },
      "execution_count": null,
      "outputs": []
    },
    {
      "cell_type": "code",
      "source": [
        "response = openai.Completion.create(\n",
        "engine=\"davinci\",\n",
        "prompt=\"installment loans ideal for bad credit situations\\\"\\nSentiment:\",\n",
        "temperature=0.3,\n",
        "max_tokens=60,\n",
        "top_p=1.0,\n",
        "frequency_penalty=0.5,\n",
        "presence_penalty=0.0,\n",
        "stop=[\"###\"])\n"
      ],
      "metadata": {
        "id": "yG-p-D6O-q3I"
      },
      "execution_count": 36,
      "outputs": []
    },
    {
      "cell_type": "code",
      "source": [
        "response"
      ],
      "metadata": {
        "id": "Mm6xhZYJ-_1y",
        "outputId": "462f7f13-78b8-428d-af36-bbea65cb9e8a",
        "colab": {
          "base_uri": "https://localhost:8080/"
        }
      },
      "execution_count": 37,
      "outputs": [
        {
          "output_type": "execute_result",
          "data": {
            "text/plain": [
              "<OpenAIObject text_completion id=cmpl-6J527z6Q1krAUpg8H4OxtHVME4zkF at 0x7f9e6a5ffae0> JSON: {\n",
              "  \"choices\": [\n",
              "    {\n",
              "      \"finish_reason\": \"stop\",\n",
              "      \"index\": 0,\n",
              "      \"logprobs\": null,\n",
              "      \"text\": \" Strong Sell\"\n",
              "    }\n",
              "  ],\n",
              "  \"created\": 1670005599,\n",
              "  \"id\": \"cmpl-6J527z6Q1krAUpg8H4OxtHVME4zkF\",\n",
              "  \"model\": \"davinci\",\n",
              "  \"object\": \"text_completion\",\n",
              "  \"usage\": {\n",
              "    \"completion_tokens\": 2,\n",
              "    \"prompt_tokens\": 13,\n",
              "    \"total_tokens\": 15\n",
              "  }\n",
              "}"
            ]
          },
          "metadata": {},
          "execution_count": 37
        }
      ]
    }
  ],
  "metadata": {
    "colab": {
      "name": "Overview of Colaboratory Features",
      "provenance": [],
      "include_colab_link": true
    },
    "kernelspec": {
      "display_name": "Python 3",
      "name": "python3"
    }
  },
  "nbformat": 4,
  "nbformat_minor": 0
}